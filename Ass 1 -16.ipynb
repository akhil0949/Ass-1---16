{
  "metadata": {
    "language_info": {
      "codemirror_mode": {
        "name": "python",
        "version": 3
      },
      "file_extension": ".py",
      "mimetype": "text/x-python",
      "name": "python",
      "nbconvert_exporter": "python",
      "pygments_lexer": "ipython3",
      "version": "3.8"
    },
    "kernelspec": {
      "name": "python",
      "display_name": "Pyolite",
      "language": "python"
    }
  },
  "nbformat_minor": 4,
  "nbformat": 4,
  "cells": [
    {
      "cell_type": "code",
      "source": "Q1. Create a list called years_list, starting with the year of your birth, and each year thereafter until the year of your fifth birthday. For example, if you were born in 1980. the list would be years_list = [1980, 1981, 1982, 1983, 1984, 1985].\n\nyears_list = [1985,1986,1987,1988,1989,1990]\nQ2.In which year in years_list was your third birthday? Remember, you were 0 years of age for your first year.\n\nyears_list[3]\n1988\nQ3.In the years list, which year were you the oldest?\nmax(years_list)\n1990\nQ4. Make a list called things with these three strings as elements: \"mozzarella\", \"cinderella\", \"salmonella\".\n\nthings = ['mozzarella',\"cinderella\",\"salmonella\"]\nthings\n['mozzarella', 'cinderella', 'salmonella']\nQ5. Capitalize the element in things that refers to a person and then print the list. Did it change the element in the list?\n\nAns:elements in the list does not change\n\nfor i in things:\n    x = i.upper()\n    print(x)\nthings\nMOZZARELLA\nCINDERELLA\nSALMONELLA\n['mozzarella', 'cinderella', 'salmonella']\nQ6. Make a surprise list with the elements \"Groucho,\" \"Chico,\" and \"Harpo.\"\n\nsurprise = [\"Groucho\",\"Chico\",\"Harpo\"]\nQ7. Lowercase the last element of the surprise list, reverse it, and then capitalize it.\n\nfor words2 in surprise:\n    words2[-1].lower()\n    print(words2)\n#Reverse of string\nfor words in surprise:\n    r = words[::-1]\n    print(\" reverse of string\", words,\"is\",r)\n    \nfor words1 in surprise:\n    c = words1.capitalize()\n    print(\"Capitalized of words are\",words1,c)\n    \nGroucho\nChico\nHarpo\n reverse of string Groucho is ohcuorG\n reverse of string Chico is ocihC\n reverse of string Harpo is opraH\nCapitalized of words are Groucho Groucho\nCapitalized of words are Chico Chico\nCapitalized of words are Harpo Harpo\nMake an English-to-French dictionary called e2f and print it. Here are your starter words: dog is chien, cat is chat, and walrus is morse.\ne2f = { \"dog\":\"chien\",\n      \"cat\":\"chat\",\n      \"walrus\":\"morse\",\n      \"one\":\"un\",\n      \"boy\":\"garcon\"}\ne2f\n{'dog': 'chien',\n 'cat': 'chat',\n 'walrus': 'morse',\n 'one': 'un',\n 'boy': 'garcon'}\nWrite the French word for walrus in your three-word dictionary e2f.\ne2f[\"walrus\"]\n'morse'\nMake a French-to-English dictionary called f2e from e2f. Use the items method.\nf2e = dict((key,value) for value,key in e2f.items())\nf2e\n{'chien': 'dog',\n 'chat': 'cat',\n 'morse': 'walrus',\n 'un': 'one',\n 'garcon': 'boy'}\nPrint the English version of the French word chien using f2e.\nf2e.values()\ndict_values(['dog', 'cat', 'walrus', 'one', 'boy'])\nMake and print a set of English words from the keys in e2f.\ne2f.keys()\ndict_keys(['dog', 'cat', 'walrus', 'one', 'boy'])\nMake a multilevel dictionary called life. Use these strings for the topmost keys: 'animals', 'plants', and 'other'. Make the 'animals' key refer to another dictionary with the keys 'cats', 'octopi', and 'emus'. Make the 'cats' key refer to a list of strings with the values 'Henri', 'Grumpy', and 'Lucy'. Make all the other keys refer to empty dictionaries.\nlife = {'animals':{'cats':['Henri','Grumpy','Lucy'],'octopi':'','emus':''},\n       'plants':'',\n       'others':''}\nlife\n{'animals': {'cats': ['Henri', 'Grumpy', 'Lucy'], 'octopi': '', 'emus': ''},\n 'plants': '',\n 'others': ''}\nPrint the top-level keys of life.\nlife.keys()\ndict_keys(['animals', 'plants', 'others'])\nPrint the keys for life['animals'].\nlife['animals'].keys()\ndict_keys(['cats', 'octopi', 'emus'])\nPrint the values for life['animals']['cats']\nlife['animals']['cats']\n['Henri', 'Grumpy', 'Lucy']",
      "metadata": {},
      "execution_count": null,
      "outputs": []
    },
    {
      "cell_type": "code",
      "source": "Q1. Create a list called years_list, starting with the year of your birth, and each year thereafter until the year of your fifth birthday. For example, if you were born in 1980. the list would be years_list = [1980, 1981, 1982, 1983, 1984, 1985].\n\nyears_list = [1985,1986,1987,1988,1989,1990]",
      "metadata": {},
      "execution_count": null,
      "outputs": []
    },
    {
      "cell_type": "code",
      "source": "Q2.In which year in years_list was your third birthday? Remember, you were 0 years of age for your first year.\n\nyears_list[3]\n1988",
      "metadata": {},
      "execution_count": null,
      "outputs": []
    },
    {
      "cell_type": "code",
      "source": "Q3.In the years list, which year were you the oldest?\nmax(years_list)\n1990",
      "metadata": {},
      "execution_count": null,
      "outputs": []
    },
    {
      "cell_type": "code",
      "source": "Q4. Make a list called things with these three strings as elements: \"mozzarella\", \"cinderella\", \"salmonella\".\n\nthings = ['mozzarella',\"cinderella\",\"salmonella\"]\nthings\n['mozzarella', 'cinderella', 'salmonella']",
      "metadata": {},
      "execution_count": null,
      "outputs": []
    },
    {
      "cell_type": "code",
      "source": "Q5. Capitalize the element in things that refers to a person and then print the list. Did it change the element in the list?\n\nAns:elements in the list does not change\n\nfor i in things:\n    x = i.upper()\n    print(x)\nthings\nMOZZARELLA\nCINDERELLA\nSALMONELLA\n['mozzarella', 'cinderella', 'salmonella']",
      "metadata": {},
      "execution_count": null,
      "outputs": []
    },
    {
      "cell_type": "code",
      "source": "Q6. Make a surprise list with the elements \"Groucho,\" \"Chico,\" and \"Harpo.\"\n\nsurprise = [\"Groucho\",\"Chico\",\"Harpo\"]",
      "metadata": {},
      "execution_count": null,
      "outputs": []
    },
    {
      "cell_type": "code",
      "source": "Q7. Lowercase the last element of the surprise list, reverse it, and then capitalize it.\n\nfor words2 in surprise:\n    words2[-1].lower()\n    print(words2)\n#Reverse of string\nfor words in surprise:\n    r = words[::-1]\n    print(\" reverse of string\", words,\"is\",r)\n    \nfor words1 in surprise:\n    c = words1.capitalize()\n    print(\"Capitalized of words are\",words1,c)\n    \nGroucho\nChico\nHarpo\n reverse of string Groucho is ohcuorG\n reverse of string Chico is ocihC\n reverse of string Harpo is opraH\nCapitalized of words are Groucho Groucho\nCapitalized of words are Chico Chico\nCapitalized of words are Harpo Harpo",
      "metadata": {},
      "execution_count": null,
      "outputs": []
    },
    {
      "cell_type": "code",
      "source": "Q8. Make an English-to-French dictionary called e2f and print it. Here are your starter words: dog is chien, cat is chat, and walrus is morse.\ne2f = { \"dog\":\"chien\",\n      \"cat\":\"chat\",\n      \"walrus\":\"morse\",\n      \"one\":\"un\",\n      \"boy\":\"garcon\"}\ne2f\n{'dog': 'chien',\n 'cat': 'chat',\n 'walrus': 'morse',\n 'one': 'un',\n 'boy': 'garcon'}\n",
      "metadata": {},
      "execution_count": null,
      "outputs": []
    },
    {
      "cell_type": "code",
      "source": "Q9. Write the French word for walrus in your three-word dictionary e2f.\ne2f[\"walrus\"]\n'morse'",
      "metadata": {},
      "execution_count": null,
      "outputs": []
    },
    {
      "cell_type": "code",
      "source": "Q10. Make a French-to-English dictionary called f2e from e2f. Use the items method.\nf2e = dict((key,value) for value,key in e2f.items())\nf2e\n{'chien': 'dog',\n 'chat': 'cat',\n 'morse': 'walrus',\n 'un': 'one',\n 'garcon': 'boy'}",
      "metadata": {},
      "execution_count": null,
      "outputs": []
    },
    {
      "cell_type": "code",
      "source": "Q11. Print the English version of the French word chien using f2e.\nf2e.values()\ndict_values(['dog', 'cat', 'walrus', 'one', 'boy'])",
      "metadata": {},
      "execution_count": null,
      "outputs": []
    },
    {
      "cell_type": "code",
      "source": "Q12. Make and print a set of English words from the keys in e2f.\ne2f.keys()\ndict_keys(['dog', 'cat', 'walrus', 'one', 'boy'])",
      "metadata": {},
      "execution_count": null,
      "outputs": []
    },
    {
      "cell_type": "code",
      "source": "Q13. Make a multilevel dictionary called life. Use these strings for the topmost keys: 'animals', 'plants', and 'other'. Make the 'animals' key refer to another dictionary with the keys 'cats', 'octopi', and 'emus'. Make the 'cats' key refer to a list of strings with the values 'Henri', 'Grumpy', and 'Lucy'. Make all the other keys refer to empty dictionaries.\nlife = {'animals':{'cats':['Henri','Grumpy','Lucy'],'octopi':'','emus':''},\n       'plants':'',\n       'others':''}\nlife\n{'animals': {'cats': ['Henri', 'Grumpy', 'Lucy'], 'octopi': '', 'emus': ''},\n 'plants': '',\n 'others': ''}",
      "metadata": {},
      "execution_count": null,
      "outputs": []
    },
    {
      "cell_type": "code",
      "source": "Q14. Print the top-level keys of life.\nlife.keys()\ndict_keys(['animals', 'plants', 'others'])",
      "metadata": {},
      "execution_count": null,
      "outputs": []
    },
    {
      "cell_type": "code",
      "source": "Q15. Print the keys for life['animals'].\nlife['animals'].keys()\ndict_keys(['cats', 'octopi', 'emus'])",
      "metadata": {},
      "execution_count": null,
      "outputs": []
    },
    {
      "cell_type": "code",
      "source": "",
      "metadata": {},
      "execution_count": null,
      "outputs": []
    }
  ]
}